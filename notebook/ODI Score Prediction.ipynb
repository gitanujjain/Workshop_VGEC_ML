{
 "cells": [
  {
   "cell_type": "code",
   "execution_count": 1,
   "metadata": {},
   "outputs": [
    {
     "name": "stdout",
     "output_type": "stream",
     "text": [
      "   mid        date                                 venue  inning bat_team  \\\n",
      "0    1  2006-06-13  Civil Service Cricket Club, Stormont       1  England   \n",
      "1    1  2006-06-13  Civil Service Cricket Club, Stormont       1  England   \n",
      "2    1  2006-06-13  Civil Service Cricket Club, Stormont       1  England   \n",
      "3    1  2006-06-13  Civil Service Cricket Club, Stormont       1  England   \n",
      "4    1  2006-06-13  Civil Service Cricket Club, Stormont       1  England   \n",
      "\n",
      "  bowl_team         batsman       bowler  runs  wickets  overs  run_rate  \\\n",
      "0   Ireland  ME Trescothick  DT Johnston     0        0    0.1       0.0   \n",
      "1   Ireland  ME Trescothick  DT Johnston     0        0    0.2       0.0   \n",
      "2   Ireland  ME Trescothick  DT Johnston     4        0    0.3       8.0   \n",
      "3   Ireland  ME Trescothick  DT Johnston     6        0    0.4       9.0   \n",
      "4   Ireland  ME Trescothick  DT Johnston     6        0    0.5       7.2   \n",
      "\n",
      "   runs_last_5  wickets_last_5  rr_last_5  striker  non-striker  total  \n",
      "0            0               0        0.0        0            0    301  \n",
      "1            0               0        0.0        0            0    301  \n",
      "2            4               0        8.0        0            0    301  \n",
      "3            6               0        9.0        0            0    301  \n",
      "4            6               0        7.2        0            0    301  \n"
     ]
    }
   ],
   "source": [
    "import pandas as pd\n",
    "\n",
    "dataset = pd.read_csv('odi.csv')\n",
    "print(dataset.head())\n",
    "\n",
    "X = dataset.iloc[:,[8,9,10,11,12,13,14,15,16]].values\n",
    "y = dataset.iloc[:, 17].values"
   ]
  },
  {
   "cell_type": "code",
   "execution_count": 2,
   "metadata": {},
   "outputs": [
    {
     "data": {
      "text/plain": [
       "(335118, 18)"
      ]
     },
     "execution_count": 2,
     "metadata": {},
     "output_type": "execute_result"
    }
   ],
   "source": [
    "dataset.shape"
   ]
  },
  {
   "cell_type": "code",
   "execution_count": 3,
   "metadata": {},
   "outputs": [],
   "source": [
    "from sklearn.model_selection import train_test_split\n",
    "X_train, X_test, y_train, y_test = train_test_split(X, y, test_size = 0.25, random_state = 0)"
   ]
  },
  {
   "cell_type": "code",
   "execution_count": 4,
   "metadata": {},
   "outputs": [],
   "source": [
    "from sklearn.preprocessing import StandardScaler\n",
    "sc = StandardScaler()\n",
    "X_train = sc.fit_transform(X_train)\n",
    "X_test = sc.transform(X_test)"
   ]
  },
  {
   "cell_type": "code",
   "execution_count": 5,
   "metadata": {},
   "outputs": [
    {
     "data": {
      "text/plain": [
       "LinearRegression(copy_X=True, fit_intercept=True, n_jobs=None,\n",
       "         normalize=False)"
      ]
     },
     "execution_count": 5,
     "metadata": {},
     "output_type": "execute_result"
    }
   ],
   "source": [
    "from sklearn.linear_model import LinearRegression\n",
    "lin = LinearRegression()\n",
    "lin.fit(X_train,y_train)"
   ]
  },
  {
   "cell_type": "code",
   "execution_count": 6,
   "metadata": {},
   "outputs": [
    {
     "name": "stdout",
     "output_type": "stream",
     "text": [
      "54.10244860454798\n"
     ]
    }
   ],
   "source": [
    "y_pred = lin.predict(X_test)\n",
    "print(lin.score(X_test,y_test)*100)"
   ]
  },
  {
   "cell_type": "code",
   "execution_count": null,
   "metadata": {},
   "outputs": [],
   "source": [
    "custom_accuracy(y_test,y_pred)"
   ]
  },
  {
   "cell_type": "code",
   "execution_count": null,
   "metadata": {},
   "outputs": [],
   "source": [
    "def custom_accuracy(y_test,y_pred):\n",
    "    right = 0\n",
    "\n",
    "    l = len(y_pred)\n",
    "    for i in range(0,l):\n",
    "        if(abs(y_pred[i]-y_test[i]) <= 20):\n",
    "            right += 1\n",
    "    print((right/l)*100)"
   ]
  },
  {
   "cell_type": "code",
   "execution_count": 7,
   "metadata": {},
   "outputs": [
    {
     "name": "stdout",
     "output_type": "stream",
     "text": [
      "[375.28177538]\n"
     ]
    }
   ],
   "source": [
    "import numpy as np\n",
    "new_prediction = lin.predict(sc.transform(np.array([[66,0,4.3,14.67,66,0,14.67,36,28]])))\n",
    "print(new_prediction)"
   ]
  },
  {
   "cell_type": "code",
   "execution_count": null,
   "metadata": {},
   "outputs": [],
   "source": []
  }
 ],
 "metadata": {
  "kernelspec": {
   "display_name": "Python 3",
   "language": "python",
   "name": "python3"
  },
  "language_info": {
   "codemirror_mode": {
    "name": "ipython",
    "version": 3
   },
   "file_extension": ".py",
   "mimetype": "text/x-python",
   "name": "python",
   "nbconvert_exporter": "python",
   "pygments_lexer": "ipython3",
   "version": "3.6.2"
  }
 },
 "nbformat": 4,
 "nbformat_minor": 2
}
